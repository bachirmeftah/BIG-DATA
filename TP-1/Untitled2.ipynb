{
  "nbformat": 4,
  "nbformat_minor": 0,
  "metadata": {
    "colab": {
      "provenance": []
    },
    "kernelspec": {
      "name": "python3",
      "display_name": "Python 3"
    },
    "language_info": {
      "name": "python"
    }
  },
  "cells": [
    {
      "cell_type": "code",
      "execution_count": 15,
      "metadata": {
        "id": "nrVjvamEl16h"
      },
      "outputs": [],
      "source": [
        "import requests\n",
        "from bs4 import BeautifulSoup\n",
        "import pandas as pd\n",
        "import time\n",
        "\n",
        "\n"
      ]
    },
    {
      "cell_type": "code",
      "source": [
        "# القوائم لتخزين البيانات\n",
        "titles = []\n",
        "authors = []\n",
        "years = []\n",
        "\n"
      ],
      "metadata": {
        "id": "H8Qt0BGBwmZm"
      },
      "execution_count": 16,
      "outputs": []
    },
    {
      "cell_type": "code",
      "source": [
        "\n",
        "# التكرار على الصفحات\n",
        "for page in range(1, 50):\n",
        "    url = f\"https://openlibrary.org/search?q=trending_score_hourly_sum%3A%5B1+TO+%2A%5D+-subject%3A%22content_warning%3Acover%22+language%3Aeng&sort=trending&page={page}\"\n",
        "    response = requests.get(url)\n",
        "    if response.status_code != 200:\n",
        "        print(f\"⚠️ تخطي الصفحة {page} (لم يتم الوصول إليها)\")\n",
        "        continue\n",
        "\n",
        "    soup = BeautifulSoup(response.content, \"html.parser\")\n",
        "    books = soup.find_all(\"li\", class_=\"searchResultItem\")\n",
        "\n",
        "    for book in books:\n",
        "        # العنوان\n",
        "        title_tag = book.find(\"a\", class_=\"results\", itemprop=\"url\", href=True)\n",
        "        title = title_tag.text.strip() if title_tag else \"No title\"\n",
        "\n",
        "        # المؤلف\n",
        "        author_tag = book.find(\"span\", class_=\"bookauthor\")\n",
        "        author = author_tag.text.strip().replace(\"by \", \"\") if author_tag else \"Unknown\"\n",
        "\n",
        "        # السنة\n",
        "        year_tag = book.find(\"span\", class_=\"resultDetails\")\n",
        "        if year_tag:\n",
        "            first_span = year_tag.find(\"span\")\n",
        "            if first_span and \"First published in\" in first_span.text:\n",
        "                year = first_span.text.strip().replace(\"First published in\", \"\").strip()\n",
        "            else:\n",
        "                year = \"N/A\"\n",
        "        else:\n",
        "            year = \"N/A\"\n",
        "        titles.append(title)\n",
        "        authors.append(author)\n",
        "        years.append(year)\n",
        "\n",
        "\n",
        "    time.sleep(1)  # احترام تأخير robots.txt"
      ],
      "metadata": {
        "id": "8GcIPKGjwmRb"
      },
      "execution_count": 17,
      "outputs": []
    },
    {
      "cell_type": "code",
      "source": [
        "\n",
        "# إنشاء DataFrame\n",
        "df = pd.DataFrame({\n",
        "    \"Title\": titles,\n",
        "    \"Author\": authors,\n",
        "    \"Year\": years,\n",
        "\n",
        "})\n"
      ],
      "metadata": {
        "id": "pZRibakrwomr"
      },
      "execution_count": 18,
      "outputs": []
    },
    {
      "cell_type": "code",
      "source": [
        "\n",
        "# حفظ البيانات كملف CSV\n",
        "df.to_csv(\"trending_books.csv\", index=False, encoding=\"utf-8\")\n"
      ],
      "metadata": {
        "id": "DYwzpKI7wlvm"
      },
      "execution_count": 19,
      "outputs": []
    }
  ]
}